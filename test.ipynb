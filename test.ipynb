{
 "cells": [
  {
   "cell_type": "code",
   "execution_count": 1,
   "metadata": {},
   "outputs": [],
   "source": [
    "import psutil\n",
    "import pynvml\n"
   ]
  },
  {
   "cell_type": "code",
   "execution_count": 5,
   "metadata": {},
   "outputs": [
    {
     "name": "stdout",
     "output_type": "stream",
     "text": [
      "当前conda环境名称： None\n"
     ]
    }
   ],
   "source": [
    "import subprocess\n",
    "\n",
    "def get_conda_environment():\n",
    "    command = \"conda info --envs\"\n",
    "\n",
    "    output = subprocess.check_output(command, shell=True).decode('utf-8')\n",
    "    lines = output.strip().split('\\n')\n",
    "    for line in lines:\n",
    "        if '*' in line:\n",
    "            environment = line.split('*')[1].strip()\n",
    "            return environment\n",
    "    return None\n",
    "\n",
    "current_environment = get_conda_environment()\n",
    "print(\"当前conda环境名称：\", current_environment)"
   ]
  },
  {
   "cell_type": "code",
   "execution_count": 6,
   "metadata": {},
   "outputs": [
    {
     "name": "stdout",
     "output_type": "stream",
     "text": [
      "# packages in environment at /home/lord/anaconda3/envs/logger:\n",
      "#\n",
      "# Name                    Version                   Build  Channel\n",
      "_libgcc_mutex             0.1                        main    https://mirrors.tuna.tsinghua.edu.cn/anaconda/pkgs/main\n",
      "_openmp_mutex             5.1                       1_gnu    https://mirrors.tuna.tsinghua.edu.cn/anaconda/pkgs/main\n",
      "asttokens                 2.4.0              pyhd8ed1ab_0    conda-forge\n",
      "backcall                  0.2.0              pyh9f0ad1d_0    conda-forge\n",
      "backports                 1.0                pyhd8ed1ab_3    conda-forge\n",
      "backports.functools_lru_cache 1.6.5              pyhd8ed1ab_0    conda-forge\n",
      "bzip2                     1.0.8                h7b6447c_0    https://mirrors.tuna.tsinghua.edu.cn/anaconda/pkgs/main\n",
      "ca-certificates           2023.7.22            hbcca054_0    conda-forge\n",
      "certifi                   2023.7.22                pypi_0    pypi\n",
      "charset-normalizer        3.3.0                    pypi_0    pypi\n",
      "comm                      0.1.4              pyhd8ed1ab_0    conda-forge\n",
      "debugpy                   1.6.7           py310h6a678d5_0    https://mirrors.tuna.tsinghua.edu.cn/anaconda/pkgs/main\n",
      "decorator                 5.1.1              pyhd8ed1ab_0    conda-forge\n",
      "entrypoints               0.4                pyhd8ed1ab_0    conda-forge\n",
      "exceptiongroup            1.1.3              pyhd8ed1ab_0    conda-forge\n",
      "executing                 1.2.0              pyhd8ed1ab_0    conda-forge\n",
      "idna                      3.4                      pypi_0    pypi\n",
      "ipykernel                 6.25.2             pyh2140261_0    conda-forge\n",
      "ipython                   8.16.1             pyh0d859eb_0    conda-forge\n",
      "jedi                      0.19.1             pyhd8ed1ab_0    conda-forge\n",
      "jupyter_client            7.3.4              pyhd8ed1ab_0    conda-forge\n",
      "jupyter_core              5.4.0           py310hff52083_0    conda-forge\n",
      "ld_impl_linux-64          2.38                 h1181459_1    https://mirrors.tuna.tsinghua.edu.cn/anaconda/pkgs/main\n",
      "libffi                    3.3                  he6710b0_2    https://mirrors.tuna.tsinghua.edu.cn/anaconda/pkgs/main\n",
      "libgcc-ng                 11.2.0               h1234567_1    https://mirrors.tuna.tsinghua.edu.cn/anaconda/pkgs/main\n",
      "libgomp                   11.2.0               h1234567_1    https://mirrors.tuna.tsinghua.edu.cn/anaconda/pkgs/main\n",
      "libsodium                 1.0.18               h36c2ea0_1    conda-forge\n",
      "libstdcxx-ng              11.2.0               h1234567_1    https://mirrors.tuna.tsinghua.edu.cn/anaconda/pkgs/main\n",
      "libuuid                   1.41.5               h5eee18b_0    https://mirrors.tuna.tsinghua.edu.cn/anaconda/pkgs/main\n",
      "matplotlib-inline         0.1.6              pyhd8ed1ab_0    conda-forge\n",
      "ncurses                   6.4                  h6a678d5_0    https://mirrors.tuna.tsinghua.edu.cn/anaconda/pkgs/main\n",
      "nest-asyncio              1.5.8              pyhd8ed1ab_0    conda-forge\n",
      "nvidia-ml-py              12.535.108               pypi_0    pypi\n",
      "openssl                   1.1.1w               h7f8727e_0    https://mirrors.tuna.tsinghua.edu.cn/anaconda/pkgs/main\n",
      "packaging                 23.2               pyhd8ed1ab_0    conda-forge\n",
      "parso                     0.8.3              pyhd8ed1ab_0    conda-forge\n",
      "pexpect                   4.8.0              pyh1a96a4e_2    conda-forge\n",
      "pickleshare               0.7.5                   py_1003    conda-forge\n",
      "pip                       23.2.1          py310h06a4308_0    https://mirrors.tuna.tsinghua.edu.cn/anaconda/pkgs/main\n",
      "platformdirs              3.11.0             pyhd8ed1ab_0    conda-forge\n",
      "prompt-toolkit            3.0.39             pyha770c72_0    conda-forge\n",
      "prompt_toolkit            3.0.39               hd8ed1ab_0    conda-forge\n",
      "psutil                    5.9.0           py310h5eee18b_0    https://mirrors.tuna.tsinghua.edu.cn/anaconda/pkgs/main\n",
      "ptyprocess                0.7.0              pyhd3deb0d_0    conda-forge\n",
      "pure_eval                 0.2.2              pyhd8ed1ab_0    conda-forge\n",
      "pygments                  2.16.1             pyhd8ed1ab_0    conda-forge\n",
      "python                    3.10.0               h12debd9_5    https://mirrors.tuna.tsinghua.edu.cn/anaconda/pkgs/main\n",
      "python-dateutil           2.8.2              pyhd8ed1ab_0    conda-forge\n",
      "python_abi                3.10                    2_cp310    conda-forge\n",
      "pyzmq                     25.1.0          py310h6a678d5_0    https://mirrors.tuna.tsinghua.edu.cn/anaconda/pkgs/main\n",
      "readline                  8.2                  h5eee18b_0    https://mirrors.tuna.tsinghua.edu.cn/anaconda/pkgs/main\n",
      "requests                  2.31.0                   pypi_0    pypi\n",
      "setuptools                68.0.0          py310h06a4308_0    https://mirrors.tuna.tsinghua.edu.cn/anaconda/pkgs/main\n",
      "six                       1.16.0             pyh6c4a22f_0    conda-forge\n",
      "sqlite                    3.41.2               h5eee18b_0    https://mirrors.tuna.tsinghua.edu.cn/anaconda/pkgs/main\n",
      "stack_data                0.6.2              pyhd8ed1ab_0    conda-forge\n",
      "tk                        8.6.12               h1ccaba5_0    https://mirrors.tuna.tsinghua.edu.cn/anaconda/pkgs/main\n",
      "tornado                   6.1             py310h5764c6d_3    conda-forge\n",
      "traitlets                 5.11.2             pyhd8ed1ab_0    conda-forge\n",
      "typing-extensions         4.8.0                hd8ed1ab_0    conda-forge\n",
      "typing_extensions         4.8.0              pyha770c72_0    conda-forge\n",
      "tzdata                    2023c                h04d1e81_0    https://mirrors.tuna.tsinghua.edu.cn/anaconda/pkgs/main\n",
      "urllib3                   2.0.6                    pypi_0    pypi\n",
      "wcwidth                   0.2.8              pyhd8ed1ab_0    conda-forge\n",
      "wheel                     0.41.2          py310h06a4308_0    https://mirrors.tuna.tsinghua.edu.cn/anaconda/pkgs/main\n",
      "xz                        5.4.2                h5eee18b_0    https://mirrors.tuna.tsinghua.edu.cn/anaconda/pkgs/main\n",
      "zeromq                    4.3.4                h2531618_0    https://mirrors.tuna.tsinghua.edu.cn/anaconda/pkgs/main\n",
      "zlib                      1.2.13               h5eee18b_0    https://mirrors.tuna.tsinghua.edu.cn/anaconda/pkgs/main\n",
      "\n"
     ]
    }
   ],
   "source": [
    "import subprocess\n",
    "\n",
    "# 运行命令并捕获输出\n",
    "result = subprocess.run(['conda', 'list'], capture_output=True, text=True)\n",
    "\n",
    "# 获取输出结果\n",
    "output = result.stdout\n",
    "\n",
    "# 打印输出结果\n",
    "print(output)"
   ]
  },
  {
   "cell_type": "code",
   "execution_count": 7,
   "metadata": {},
   "outputs": [],
   "source": [
    "import time\n",
    "start_time = time.time()"
   ]
  },
  {
   "cell_type": "code",
   "execution_count": 8,
   "metadata": {},
   "outputs": [
    {
     "data": {
      "text/plain": [
       "1697555086.897745"
      ]
     },
     "execution_count": 8,
     "metadata": {},
     "output_type": "execute_result"
    }
   ],
   "source": [
    "start_time"
   ]
  }
 ],
 "metadata": {
  "kernelspec": {
   "display_name": "logger",
   "language": "python",
   "name": "python3"
  },
  "language_info": {
   "codemirror_mode": {
    "name": "ipython",
    "version": 3
   },
   "file_extension": ".py",
   "mimetype": "text/x-python",
   "name": "python",
   "nbconvert_exporter": "python",
   "pygments_lexer": "ipython3",
   "version": "3.8.18"
  }
 },
 "nbformat": 4,
 "nbformat_minor": 2
}
