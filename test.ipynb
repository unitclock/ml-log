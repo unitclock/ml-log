{
 "cells": [
  {
   "cell_type": "code",
   "execution_count": 1,
   "metadata": {},
   "outputs": [
    {
     "name": "stdout",
     "output_type": "stream",
     "text": [
      "3.10.0 (default, Mar  3 2022, 09:58:08) [GCC 7.5.0]\n"
     ]
    }
   ],
   "source": [
    "import sys\n",
    "\n",
    "print(sys.version)"
   ]
  },
  {
   "cell_type": "code",
   "execution_count": 21,
   "metadata": {},
   "outputs": [],
   "source": [
    "import requests"
   ]
  },
  {
   "cell_type": "code",
   "execution_count": 22,
   "metadata": {},
   "outputs": [
    {
     "name": "stdout",
     "output_type": "stream",
     "text": [
      "{'msg': '操作成功', 'code': 200, 'data': '操作成功'}\n"
     ]
    }
   ],
   "source": [
    "header = {'Content-Type': 'application/json'}\n",
    "resp = requests.post(\n",
    "    url=\"http://127.0.0.1:5560/ml_client/client/noticeExperiment\",\n",
    "    json={\n",
    "    \"experimentId\":\"abcd\",\n",
    "    \"status\":\"1\"\n",
    "    },\n",
    "    headers=header\n",
    ")\n",
    "print(resp.json())"
   ]
  },
  {
   "cell_type": "code",
   "execution_count": 23,
   "metadata": {},
   "outputs": [
    {
     "name": "stdout",
     "output_type": "stream",
     "text": [
      "{'msg': '操作成功', 'code': 200, 'data': '操作成功'}\n"
     ]
    }
   ],
   "source": [
    "resp = requests.post(\n",
    "    url=\"http://127.0.0.1:5560/ml_client/client/noticeExperiment\",\n",
    "    json={\n",
    "    \"experimentId\":\"abcd\",\n",
    "    \"status\":\"0\"\n",
    "    },\n",
    "    headers=header\n",
    ")\n",
    "print(resp.json())"
   ]
  },
  {
   "cell_type": "code",
   "execution_count": 24,
   "metadata": {},
   "outputs": [
    {
     "name": "stdout",
     "output_type": "stream",
     "text": [
      "{'msg': '操作成功', 'code': 200, 'data': '/opt/jml_ai_result'}\n"
     ]
    }
   ],
   "source": [
    "resp = requests.post(\n",
    "    url=\"http://127.0.0.1:5560/ml_client/client/loadSavePath\",\n",
    "    json={\n",
    "    \"userToken\":\"xxxxx\",\n",
    "    \"projectId\":\"11111\",\n",
    "    \"experimentName\":\"测试实验\",\n",
    "    \"description\":\"秒速\"\n",
    "    },\n",
    "    headers=header\n",
    ")\n",
    "print(resp.json())"
   ]
  },
  {
   "cell_type": "code",
   "execution_count": 25,
   "metadata": {},
   "outputs": [
    {
     "name": "stdout",
     "output_type": "stream",
     "text": [
      "{'msg': '操作成功', 'code': 200, 'data': '操作成功'}\n"
     ]
    }
   ],
   "source": [
    "resp = requests.post(\n",
    "    url=\"http://127.0.0.1:5560/ml_client/client/noticeRun\",\n",
    "    json={\n",
    "    \"experimentId\":\"1111\",\n",
    "    \"runName\":\"run-0\",\n",
    "    \"status\":0\n",
    "    },\n",
    "    headers=header\n",
    ")\n",
    "print(resp.json())"
   ]
  },
  {
   "cell_type": "code",
   "execution_count": 26,
   "metadata": {},
   "outputs": [
    {
     "name": "stdout",
     "output_type": "stream",
     "text": [
      "{'msg': '操作成功', 'code': 200, 'data': '操作成功'}\n"
     ]
    }
   ],
   "source": [
    "resp = requests.post(\n",
    "    url=\"http://127.0.0.1:5560/ml_client/client/noticeRun\",\n",
    "    json={\n",
    "    \"experimentId\":\"1111\",\n",
    "    \"runName\":\"run-0\",\n",
    "    \"status\":0\n",
    "    },\n",
    "    headers=header\n",
    ")\n",
    "print(resp.json())"
   ]
  }
 ],
 "metadata": {
  "kernelspec": {
   "display_name": "logger",
   "language": "python",
   "name": "python3"
  },
  "language_info": {
   "codemirror_mode": {
    "name": "ipython",
    "version": 3
   },
   "file_extension": ".py",
   "mimetype": "text/x-python",
   "name": "python",
   "nbconvert_exporter": "python",
   "pygments_lexer": "ipython3",
   "version": "3.10.0"
  }
 },
 "nbformat": 4,
 "nbformat_minor": 2
}
