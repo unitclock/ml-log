{
 "cells": [
  {
   "cell_type": "code",
   "execution_count": 1,
   "metadata": {},
   "outputs": [
    {
     "name": "stdout",
     "output_type": "stream",
     "text": [
      "True\n"
     ]
    }
   ],
   "source": [
    "import sys\n",
    "print(sys.version_info > (3,6))\n",
    "import time\n",
    "import multiprocessing"
   ]
  },
  {
   "cell_type": "code",
   "execution_count": 2,
   "metadata": {},
   "outputs": [],
   "source": [
    "from mllogger.mllogger import NewLogger"
   ]
  },
  {
   "cell_type": "code",
   "execution_count": 3,
   "metadata": {},
   "outputs": [
    {
     "name": "stdout",
     "output_type": "stream",
     "text": [
      "__main__\n",
      "Send Message:{'userToken': 'eyJhbGciOiJIUzI1NiIsInppcCI6IkdaSVAifQ.H4sIAAAAAAAAAKtWKi5NUrJS8kotcSwtyff1UdJRSq0oULIyNLO0MLMwNDMw0FEqLU4t8kwBipkDRS0NTA0sjA2NjQxNLM0tIJJ-ibmpQEMyShPz0itKU_Lz0pVqAV0AZlNaAAAA.IsqnyZC_OLIU-jTzEJ1QSfrVD7efzmKAxCaLq2bvQf0', 'projectId': '907', 'description': 'description ， 111', 'experimentName': 'experiment_name 111-20231102132323', 'repositoryId': 'e4107e9add2646d9b85a6a4c9fa43136'}\n",
      "\n",
      "Client Response: {'msg': '操作成功', 'code': 200, 'data': 'C:/jml_ai_result'}\n",
      "\n",
      "Send Message:{'experimentId': '616316733295644', 'status': 0}\n",
      "\n",
      "Client Response: {'msg': '操作成功', 'code': 200, 'data': '操作成功'}\n",
      "\n",
      "Send Message:{'experimentId': '616316733295644', 'runName': 'C:/jml_ai_result/616316733295644/run-0', 'status': 0}\n",
      "\n",
      "Client Response: {'msg': '操作成功', 'code': 200, 'data': '操作成功'}\n",
      "\n",
      "1\n",
      "2\n",
      "{'C:/jml_ai_result/616316733295644/run-0': [{'acc': 0.9}, {'acc': 0.9}, {'acc': 0.9}, {'acc': 0.9}]}\n",
      "Send Message:{'experimentId': '616316733295644', 'runName': 'C:/jml_ai_result/616316733295644/run-0', 'status': 1}\n",
      "\n",
      "Client Response: {'msg': '操作成功', 'code': 200, 'data': '操作成功'}\n",
      "\n",
      "Send Message:{'experimentId': '616316733295644', 'runName': 'C:/jml_ai_result/616316733295644/run-1', 'status': 0}\n",
      "\n",
      "Client Response: {'msg': '操作成功', 'code': 200, 'data': '操作成功'}\n",
      "\n",
      "1\n",
      "2\n",
      "{'C:/jml_ai_result/616316733295644/run-0': [{'acc': 0.9}, {'acc': 0.9}, {'acc': 0.9}, {'acc': 0.9}], 'C:/jml_ai_result/616316733295644/run-1': [{'acc': 0.9}, {'acc': 0.9}, {'acc': 0.9}, {'acc': 0.9}]}\n",
      "Send Message:{'experimentId': '616316733295644', 'runName': 'C:/jml_ai_result/616316733295644/run-1', 'status': 1}\n",
      "\n",
      "Client Response: {'msg': '操作成功', 'code': 200, 'data': '操作成功'}\n",
      "\n",
      "Send Message:{'experimentId': '616316733295644', 'runName': 'C:/jml_ai_result/616316733295644/run-2', 'status': 0}\n",
      "\n",
      "Client Response: {'msg': '操作成功', 'code': 200, 'data': '操作成功'}\n",
      "\n",
      "1\n",
      "2\n",
      "{'C:/jml_ai_result/616316733295644/run-0': [{'acc': 0.9}, {'acc': 0.9}, {'acc': 0.9}, {'acc': 0.9}], 'C:/jml_ai_result/616316733295644/run-1': [{'acc': 0.9}, {'acc': 0.9}, {'acc': 0.9}, {'acc': 0.9}], 'C:/jml_ai_result/616316733295644/run-2': [{'acc': 0.9}, {'acc': 0.9}, {'acc': 0.9}, {'acc': 0.9}]}\n",
      "Send Message:{'experimentId': '616316733295644', 'runName': 'C:/jml_ai_result/616316733295644/run-2', 'status': 1}\n",
      "\n",
      "Client Response: {'msg': '操作成功', 'code': 200, 'data': '操作成功'}\n",
      "\n"
     ]
    }
   ],
   "source": [
    "print(__name__)\n",
    "multiprocessing.freeze_support()\n",
    "if __name__ == \"__main__\":\n",
    "\n",
    "        l = NewLogger(\n",
    "            #此处录入配置文件信息：如access_token，项目id，项目描述\n",
    "            config={\n",
    "            'access_token':\"eyJhbGciOiJIUzI1NiIsInppcCI6IkdaSVAifQ.H4sIAAAAAAAAAKtWKi5NUrJS8kotcSwtyff1UdJRSq0oULIyNLO0MLMwNDMw0FEqLU4t8kwBipkDRS0NTA0sjA2NjQxNLM0tIJJ-ibmpQEMyShPz0itKU_Lz0pVqAV0AZlNaAAAA.IsqnyZC_OLIU-jTzEJ1QSfrVD7efzmKAxCaLq2bvQf0\",\n",
    "            'project':\"907\", \n",
    "            \"description\":\"description ， 111\",\n",
    "            \"experiment_name\":\"experiment_name 111\",\n",
    "            \"repository_id\":\"e4107e9add2646d9b85a6a4c9fa43136\"\n",
    "            },\n",
    "            #此处录入实验超参数\n",
    "            info={\n",
    "            \"learnning_rate\":0.02,\n",
    "            \"epoch\":3,\n",
    "            \"batch_size\":8\n",
    "            }\n",
    "        )\n",
    "        for t in range(3):\n",
    "            l.Run()\n",
    "            for i in range(4):\n",
    "                    time.sleep(2)\n",
    "                    l.Log({\"acc\":0.9})\n",
    "            l.End()\n",
    "\n",
    "        l.Submit()"
   ]
  }
 ],
 "metadata": {
  "kernelspec": {
   "display_name": "mllog-test",
   "language": "python",
   "name": "python3"
  },
  "language_info": {
   "codemirror_mode": {
    "name": "ipython",
    "version": 3
   },
   "file_extension": ".py",
   "mimetype": "text/x-python",
   "name": "python",
   "nbconvert_exporter": "python",
   "pygments_lexer": "ipython3",
   "version": "3.6.15"
  }
 },
 "nbformat": 4,
 "nbformat_minor": 2
}
